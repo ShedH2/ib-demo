{
 "cells": [
  {
   "cell_type": "code",
   "execution_count": 1,
   "id": "4c3908c3",
   "metadata": {},
   "outputs": [
    {
     "name": "stdout",
     "output_type": "stream",
     "text": [
      "Collecting ib_insync\n",
      "  Downloading ib_insync-0.9.66-py3-none-any.whl (70 kB)\n",
      "\u001b[K     |################################| 70 kB 2.1 MB/s eta 0:00:011\n",
      "\u001b[?25hRequirement already satisfied: nest-asyncio in /opt/conda/lib/python3.6/site-packages (from ib_insync) (1.5.1)\n",
      "Collecting eventkit\n",
      "  Downloading eventkit-0.8.6-py3-none-any.whl (31 kB)\n",
      "Requirement already satisfied: numpy in /opt/conda/lib/python3.6/site-packages (from eventkit->ib_insync) (1.18.5)\n",
      "Installing collected packages: eventkit, ib-insync\n",
      "Successfully installed eventkit-0.8.6 ib-insync-0.9.66\n"
     ]
    }
   ],
   "source": [
    "!pip install ib_insync"
   ]
  },
  {
   "cell_type": "code",
   "execution_count": null,
   "id": "6ef3cf24",
   "metadata": {},
   "outputs": [],
   "source": [
    "from ib_insync import *\n",
    "util.startLoop()  # uncomment this line when in a notebook\n",
    "\n",
    "ib = IB()\n",
    "# I need to verify the port for IB Gateway\n",
    "ib.connect('127.0.0.1', 7497, clientId=1)\n",
    "\n",
    "# Use this for TWS Workstation\n",
    "#ib.connect('127.0.0.1', 7497, clientId=1)\n",
    "\n",
    "contract = Stock('AMD', 'SMART','USD')\n",
    "bars = ib.reqHistoricalData(\n",
    "    contract, endDateTime='', durationStr='30 D',\n",
    "    barSizeSetting='1 hour', whatToShow='MIDPOINT', useRTH=True)\n",
    "\n",
    "print(bars)"
   ]
  },
  {
   "cell_type": "code",
   "execution_count": null,
   "id": "0ec4f5f7",
   "metadata": {},
   "outputs": [],
   "source": [
    "# convert to pandas dataframe:\n",
    "df = util.df(bars)\n",
    "print(df)"
   ]
  },
  {
   "cell_type": "code",
   "execution_count": null,
   "id": "36f04bfe",
   "metadata": {},
   "outputs": [],
   "source": [
    "market_data = ib.reqMktData(stock, '', False, False)\n",
    "\n",
    "print(market_data)"
   ]
  },
  {
   "cell_type": "code",
   "execution_count": null,
   "id": "e16f0b33",
   "metadata": {},
   "outputs": [],
   "source": [
    "def onPendingTicker(ticker):\n",
    "    print(\"pending ticker event recieved \\n\")\n",
    "    print(ticker)\n",
    "    \n",
    "ib.pendingTickerEvent += onPendingTicker"
   ]
  },
  {
   "cell_type": "code",
   "execution_count": null,
   "id": "4b8af398",
   "metadata": {},
   "outputs": [],
   "source": [
    "ib.run()"
   ]
  }
 ],
 "metadata": {
  "kernelspec": {
   "display_name": "ib-dev",
   "language": "python",
   "name": "ib-dev"
  },
  "language_info": {
   "codemirror_mode": {
    "name": "ipython",
    "version": 3
   },
   "file_extension": ".py",
   "mimetype": "text/x-python",
   "name": "python",
   "nbconvert_exporter": "python",
   "pygments_lexer": "ipython3",
   "version": "3.6.13"
  }
 },
 "nbformat": 4,
 "nbformat_minor": 5
}
